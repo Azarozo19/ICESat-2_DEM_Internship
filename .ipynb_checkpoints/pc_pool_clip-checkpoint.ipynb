{
 "cells": [
  {
   "cell_type": "code",
   "execution_count": null,
   "id": "85bf860d-004c-425e-a6cf-f0de1cff2afe",
   "metadata": {},
   "outputs": [],
   "source": [
    "import os, glob, h5py, glob, sys, warnings, tqdm\n",
    "import pandas as pd\n",
    "import geopandas as gpd\n",
    "import numpy as np\n",
    "import matplotlib.pyplot as plt\n",
    "import geopandas as gp\n",
    "from pyproj import Transformer\n",
    "from pyproj import proj\n",
    "\n",
    "sys.path.append(r'C:\\Users\\Sebastian\\U\\Spatial\\Internship\\Bodo_website\\ICESat-2_SVDA-main\\python')\n",
    "\n",
    "#from SVDA_helper_functions import *\n",
    "from SVDA_functions import *"
   ]
  },
  {
   "cell_type": "code",
   "execution_count": null,
   "id": "0228be46-0cd8-4ffa-b2b3-b9436509538e",
   "metadata": {},
   "outputs": [],
   "source": [
    "# Data extraction from ATL03 product (HDF5 formatted files)\n",
    "# This example uses only a single file, the code can also take a directory full of files\n",
    "\n",
    "#The ATL03_20200320133708_12950614_003_01.h5 file is 4.7GB and is available at https://nsidc.org/data/ATL03\n",
    "ATL03_input_path = r'C:\\Users\\Sebastian\\U\\Spatial\\ATL03\\ATL03_20191030041540_05080506_005_01.h5'\n",
    "\n",
    "# Output\n",
    "ATL03_output_path = r\"C:\\Users\\Sebastian\\U\\Spatial\\ATL03\\hdf_ATL03\"\n",
    "\n",
    "#Region of interest to be clipped from ATL08 file:\n",
    "ROI_fname = r'C:\\Users\\Sebastian\\U\\Spatial\\ATL08\\mygeodata\\Sutlej_lowerclip-polygon.shp'\n",
    "EPSG = 'epsg:7763'"
   ]
  },
  {
   "cell_type": "code",
   "execution_count": null,
   "id": "4f5757c9-efd3-4cba-aa04-d050937d9db1",
   "metadata": {},
   "outputs": [],
   "source": [
    "ATL03_files = list(glob.glob(ATL03_input_path))\n",
    "ATL03_files.sort()\n",
    "for fname in ATL03_files:  \n",
    "    ATL03_signal_photons(fname, ATL03_output_path, ROI_fname, EPSG, reprocess=False)"
   ]
  },
  {
   "cell_type": "code",
   "execution_count": null,
   "id": "82fa5869-2a05-405e-b525-206b67940098",
   "metadata": {},
   "outputs": [],
   "source": [
    "ATL03_land_files = glob.glob(os.path.join(ATL03_output_path, 'ATL03_Land_*.hdf'))\n",
    "ATL03_land_files.sort()\n",
    "ATL03_df = pd.read_hdf(ATL03_land_files[0], mode='r')\n",
    "ATL03_df = ATL03_df.iloc[::100, :]"
   ]
  },
  {
   "cell_type": "code",
   "execution_count": null,
   "id": "8bd996a2-495c-4b45-a0c7-018c6fb97d47",
   "metadata": {},
   "outputs": [],
   "source": [
    "import json\n",
    "f = open(r\"D:\\Datos de Usuario\\Univ\\Semester_4\\Internship_thesis\\study_area\\study_area.json\")\n",
    "area = json.load(f)\n",
    "\n",
    "import plotly.express as px\n",
    "fig = px.scatter_mapbox(ATL03_df, \n",
    "                        lat='Latitude', \n",
    "                        lon='Longitude',\n",
    "                        color='Photon_Height', zoom=9)\n",
    "fig.update_layout(\n",
    "    mapbox = {\n",
    "        'style': \"white-bg\",\n",
    "        'zoom': 6, 'layers': [{\n",
    "            'source': area,\n",
    "            'type':'fill', 'below':'traces','color': 'grey', 'opacity' : 0.2}],\n",
    "    })\n",
    "\n",
    "fig.update_layout(margin=dict(l=0, r=0, b=0, t=0), title='Land, Ground, and Preliminary Canopy')\n",
    "fig.show()"
   ]
  }
 ],
 "metadata": {
  "kernelspec": {
   "display_name": "Python 3 (ipykernel)",
   "language": "python",
   "name": "python3"
  },
  "language_info": {
   "codemirror_mode": {
    "name": "ipython",
    "version": 3
   },
   "file_extension": ".py",
   "mimetype": "text/x-python",
   "name": "python",
   "nbconvert_exporter": "python",
   "pygments_lexer": "ipython3",
   "version": "3.11.0"
  }
 },
 "nbformat": 4,
 "nbformat_minor": 5
}
